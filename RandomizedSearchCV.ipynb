{
 "cells": [
  {
   "cell_type": "markdown",
   "metadata": {},
   "source": [
    "<h3> Importing and reading data </h3>"
   ]
  },
  {
   "cell_type": "code",
   "execution_count": null,
   "metadata": {
    "id": "RdFvQaKT_tlf"
   },
   "outputs": [],
   "source": [
    "from sklearn.datasets import load_iris\n",
    "from sklearn.model_selection import GridSearchCV, RandomizedSearchCV, train_test_split\n",
    "from sklearn import svm\n",
    "from sklearn.svm import SVR\n",
    "from sklearn.preprocessing import StandardScaler\n",
    "from sklearn.neighbors import KNeighborsClassifier\n",
    "from sklearn.metrics import accuracy_score\n",
    "\n",
    "iris = load_iris()\n",
    "x = iris.data\n",
    "y = iris.target\n"
   ]
  },
  {
   "cell_type": "code",
   "execution_count": null,
   "metadata": {
    "id": "HSIcWRkV_tlj"
   },
   "outputs": [],
   "source": [
    "x_train, x_test, y_train, y_test = train_test_split(x, y, test_size=0.5)\n",
    "std_slc = StandardScaler()\n",
    "std_slc.fit(x_train)\n",
    "x_train_std = std_slc.transform(x_train)\n",
    "x_test_std = std_slc.transform(x_test)"
   ]
  },
  {
   "cell_type": "code",
   "execution_count": null,
   "metadata": {
    "id": "HW6mCOzH_tlm",
    "outputId": "44054eaf-65df-4a55-d198-d45984ca0344"
   },
   "outputs": [
    {
     "data": {
      "text/plain": [
       "{'algorithm': 'auto',\n",
       " 'leaf_size': 30,\n",
       " 'metric': 'minkowski',\n",
       " 'metric_params': None,\n",
       " 'n_jobs': None,\n",
       " 'n_neighbors': 5,\n",
       " 'p': 2,\n",
       " 'weights': 'uniform'}"
      ]
     },
     "execution_count": 26,
     "metadata": {},
     "output_type": "execute_result"
    }
   ],
   "source": [
    "knn = KNeighborsClassifier() \n",
    "knn.get_params ()"
   ]
  },
  {
   "cell_type": "code",
   "execution_count": null,
   "metadata": {
    "id": "Mex3ff9B_tlm",
    "outputId": "789f2eb6-3c81-411e-f471-f5c15793ccb2"
   },
   "outputs": [
    {
     "data": {
      "text/plain": [
       "{'algorithm': 'auto',\n",
       " 'leaf_size': 30,\n",
       " 'metric': 'minkowski',\n",
       " 'metric_params': None,\n",
       " 'n_jobs': None,\n",
       " 'n_neighbors': 5,\n",
       " 'p': 2,\n",
       " 'weights': 'uniform'}"
      ]
     },
     "execution_count": 6,
     "metadata": {},
     "output_type": "execute_result"
    }
   ],
   "source": [
    "params = {\n",
    "    'weights': ['uniform', 'distance'],\n",
    "    'leaf_size': [5, 10, 15, 20, 50],\n",
    "    'n_neighbors': [5, 10, 20, 50]\n",
    "        }\n",
    "\n",
    "clf = KNeighborsClassifier() \n",
    "clf.get_params ()"
   ]
  },
  {
   "cell_type": "markdown",
   "metadata": {
    "id": "q1y3qS06_tlo"
   },
   "source": [
    "<h2> GridSearchCv </h3>"
   ]
  },
  {
   "cell_type": "code",
   "execution_count": null,
   "metadata": {
    "id": "WHftWr7B_tlp",
    "outputId": "5f447a30-41c8-493d-ca1a-975aa1f3c91b"
   },
   "outputs": [
    {
     "name": "stdout",
     "output_type": "stream",
     "text": [
      "Wall time: 534 ms\n"
     ]
    },
    {
     "data": {
      "text/plain": [
       "GridSearchCV(cv=10, estimator=KNeighborsClassifier(),\n",
       "             param_grid={'leaf_size': [5, 10, 15, 20, 50],\n",
       "                         'n_neighbors': [5, 10, 20, 50],\n",
       "                         'weights': ['uniform', 'distance']},\n",
       "             scoring='accuracy')"
      ]
     },
     "execution_count": 23,
     "metadata": {},
     "output_type": "execute_result"
    }
   ],
   "source": [
    "grid = GridSearchCV(clf, params, cv=10, scoring='accuracy')\n",
    "%time grid.fit(x, y)"
   ]
  },
  {
   "cell_type": "code",
   "execution_count": null,
   "metadata": {
    "id": "OAIlyzh4_tlp",
    "outputId": "16bddef1-9578-4391-8d9d-439b61439a2d",
    "scrolled": true
   },
   "outputs": [
    {
     "data": {
      "text/plain": [
       "{'mean_fit_time': array([7.38096237e-04, 3.02219391e-04, 4.00567055e-04, 5.98120689e-04,\n",
       "        3.05247307e-04, 3.98755074e-04, 4.95600700e-04, 4.00018692e-04,\n",
       "        2.00057030e-04, 2.99882889e-04, 2.98833847e-04, 3.01408768e-04,\n",
       "        2.00057030e-04, 5.00869751e-04, 2.00533867e-04, 4.99510765e-04,\n",
       "        4.01496887e-04, 3.00717354e-04, 4.51827049e-04, 3.00121307e-04,\n",
       "        2.99000740e-04, 9.93967056e-05, 4.01139259e-04, 4.01306152e-04,\n",
       "        2.00748444e-04, 2.01249123e-04, 2.00319290e-04, 7.01904297e-04,\n",
       "        3.00693512e-04, 2.99978256e-04, 4.01425362e-04, 3.02767754e-04,\n",
       "        5.02610207e-04, 2.99978256e-04, 4.00543213e-04, 2.00033188e-04,\n",
       "        3.99422646e-04, 2.00033188e-04, 2.00271606e-04, 0.00000000e+00]),\n",
       " 'std_fit_time': array([0.00050435, 0.00046168, 0.0004906 , 0.00048861, 0.00046656,\n",
       "        0.00048838, 0.00049591, 0.00048992, 0.00040011, 0.00045808,\n",
       "        0.00045648, 0.00046041, 0.00040011, 0.00050087, 0.00040108,\n",
       "        0.00049952, 0.00049174, 0.00045936, 0.00046834, 0.00045846,\n",
       "        0.00045683, 0.00029819, 0.0004913 , 0.00049152, 0.0004015 ,\n",
       "        0.0004025 , 0.00040064, 0.00045953, 0.00045932, 0.00045823,\n",
       "        0.00049165, 0.00046257, 0.00050275, 0.00045822, 0.00049057,\n",
       "        0.00040007, 0.00048919, 0.00040007, 0.00040054, 0.        ]),\n",
       " 'mean_score_time': array([0.00102141, 0.00069692, 0.00070078, 0.00050228, 0.00109847,\n",
       "        0.00070755, 0.00099854, 0.0006    , 0.00079985, 0.00059988,\n",
       "        0.00070117, 0.00079951, 0.00089991, 0.00030453, 0.00090072,\n",
       "        0.00050085, 0.00069833, 0.0002996 , 0.00050366, 0.00040021,\n",
       "        0.00069933, 0.00080135, 0.0008014 , 0.00059972, 0.00079916,\n",
       "        0.00049944, 0.00080011, 0.00020037, 0.00079606, 0.00070081,\n",
       "        0.00089824, 0.00089574, 0.00160341, 0.00070033, 0.00059996,\n",
       "        0.00070009, 0.00090046, 0.00069997, 0.0009007 , 0.00109942]),\n",
       " 'std_score_time': array([6.83532257e-04, 4.56800210e-04, 4.58809496e-04, 5.02323471e-04,\n",
       "        2.98521466e-04, 6.37621863e-04, 4.52090917e-06, 4.89901452e-04,\n",
       "        3.99923438e-04, 4.89804908e-04, 4.59025520e-04, 3.99757082e-04,\n",
       "        2.99970545e-04, 4.65328963e-04, 3.00289340e-04, 5.00857481e-04,\n",
       "        4.57177072e-04, 4.57642947e-04, 5.03764954e-04, 4.90173120e-04,\n",
       "        4.57826883e-04, 4.00691622e-04, 4.00899122e-04, 4.89685611e-04,\n",
       "        3.99610413e-04, 4.99447350e-04, 4.00070900e-04, 4.00749395e-04,\n",
       "        5.99082021e-04, 4.58810402e-04, 2.99445635e-04, 5.37926622e-04,\n",
       "        6.66691138e-04, 4.58475496e-04, 4.89862476e-04, 4.58318146e-04,\n",
       "        3.00157852e-04, 4.58246543e-04, 3.00262503e-04, 2.86267095e-04]),\n",
       " 'param_leaf_size': masked_array(data=[5, 5, 5, 5, 5, 5, 5, 5, 10, 10, 10, 10, 10, 10, 10, 10,\n",
       "                    15, 15, 15, 15, 15, 15, 15, 15, 20, 20, 20, 20, 20, 20,\n",
       "                    20, 20, 50, 50, 50, 50, 50, 50, 50, 50],\n",
       "              mask=[False, False, False, False, False, False, False, False,\n",
       "                    False, False, False, False, False, False, False, False,\n",
       "                    False, False, False, False, False, False, False, False,\n",
       "                    False, False, False, False, False, False, False, False,\n",
       "                    False, False, False, False, False, False, False, False],\n",
       "        fill_value='?',\n",
       "             dtype=object),\n",
       " 'param_n_neighbors': masked_array(data=[5, 5, 10, 10, 20, 20, 50, 50, 5, 5, 10, 10, 20, 20, 50,\n",
       "                    50, 5, 5, 10, 10, 20, 20, 50, 50, 5, 5, 10, 10, 20, 20,\n",
       "                    50, 50, 5, 5, 10, 10, 20, 20, 50, 50],\n",
       "              mask=[False, False, False, False, False, False, False, False,\n",
       "                    False, False, False, False, False, False, False, False,\n",
       "                    False, False, False, False, False, False, False, False,\n",
       "                    False, False, False, False, False, False, False, False,\n",
       "                    False, False, False, False, False, False, False, False],\n",
       "        fill_value='?',\n",
       "             dtype=object),\n",
       " 'param_weights': masked_array(data=['uniform', 'distance', 'uniform', 'distance',\n",
       "                    'uniform', 'distance', 'uniform', 'distance',\n",
       "                    'uniform', 'distance', 'uniform', 'distance',\n",
       "                    'uniform', 'distance', 'uniform', 'distance',\n",
       "                    'uniform', 'distance', 'uniform', 'distance',\n",
       "                    'uniform', 'distance', 'uniform', 'distance',\n",
       "                    'uniform', 'distance', 'uniform', 'distance',\n",
       "                    'uniform', 'distance', 'uniform', 'distance',\n",
       "                    'uniform', 'distance', 'uniform', 'distance',\n",
       "                    'uniform', 'distance', 'uniform', 'distance'],\n",
       "              mask=[False, False, False, False, False, False, False, False,\n",
       "                    False, False, False, False, False, False, False, False,\n",
       "                    False, False, False, False, False, False, False, False,\n",
       "                    False, False, False, False, False, False, False, False,\n",
       "                    False, False, False, False, False, False, False, False],\n",
       "        fill_value='?',\n",
       "             dtype=object),\n",
       " 'params': [{'leaf_size': 5, 'n_neighbors': 5, 'weights': 'uniform'},\n",
       "  {'leaf_size': 5, 'n_neighbors': 5, 'weights': 'distance'},\n",
       "  {'leaf_size': 5, 'n_neighbors': 10, 'weights': 'uniform'},\n",
       "  {'leaf_size': 5, 'n_neighbors': 10, 'weights': 'distance'},\n",
       "  {'leaf_size': 5, 'n_neighbors': 20, 'weights': 'uniform'},\n",
       "  {'leaf_size': 5, 'n_neighbors': 20, 'weights': 'distance'},\n",
       "  {'leaf_size': 5, 'n_neighbors': 50, 'weights': 'uniform'},\n",
       "  {'leaf_size': 5, 'n_neighbors': 50, 'weights': 'distance'},\n",
       "  {'leaf_size': 10, 'n_neighbors': 5, 'weights': 'uniform'},\n",
       "  {'leaf_size': 10, 'n_neighbors': 5, 'weights': 'distance'},\n",
       "  {'leaf_size': 10, 'n_neighbors': 10, 'weights': 'uniform'},\n",
       "  {'leaf_size': 10, 'n_neighbors': 10, 'weights': 'distance'},\n",
       "  {'leaf_size': 10, 'n_neighbors': 20, 'weights': 'uniform'},\n",
       "  {'leaf_size': 10, 'n_neighbors': 20, 'weights': 'distance'},\n",
       "  {'leaf_size': 10, 'n_neighbors': 50, 'weights': 'uniform'},\n",
       "  {'leaf_size': 10, 'n_neighbors': 50, 'weights': 'distance'},\n",
       "  {'leaf_size': 15, 'n_neighbors': 5, 'weights': 'uniform'},\n",
       "  {'leaf_size': 15, 'n_neighbors': 5, 'weights': 'distance'},\n",
       "  {'leaf_size': 15, 'n_neighbors': 10, 'weights': 'uniform'},\n",
       "  {'leaf_size': 15, 'n_neighbors': 10, 'weights': 'distance'},\n",
       "  {'leaf_size': 15, 'n_neighbors': 20, 'weights': 'uniform'},\n",
       "  {'leaf_size': 15, 'n_neighbors': 20, 'weights': 'distance'},\n",
       "  {'leaf_size': 15, 'n_neighbors': 50, 'weights': 'uniform'},\n",
       "  {'leaf_size': 15, 'n_neighbors': 50, 'weights': 'distance'},\n",
       "  {'leaf_size': 20, 'n_neighbors': 5, 'weights': 'uniform'},\n",
       "  {'leaf_size': 20, 'n_neighbors': 5, 'weights': 'distance'},\n",
       "  {'leaf_size': 20, 'n_neighbors': 10, 'weights': 'uniform'},\n",
       "  {'leaf_size': 20, 'n_neighbors': 10, 'weights': 'distance'},\n",
       "  {'leaf_size': 20, 'n_neighbors': 20, 'weights': 'uniform'},\n",
       "  {'leaf_size': 20, 'n_neighbors': 20, 'weights': 'distance'},\n",
       "  {'leaf_size': 20, 'n_neighbors': 50, 'weights': 'uniform'},\n",
       "  {'leaf_size': 20, 'n_neighbors': 50, 'weights': 'distance'},\n",
       "  {'leaf_size': 50, 'n_neighbors': 5, 'weights': 'uniform'},\n",
       "  {'leaf_size': 50, 'n_neighbors': 5, 'weights': 'distance'},\n",
       "  {'leaf_size': 50, 'n_neighbors': 10, 'weights': 'uniform'},\n",
       "  {'leaf_size': 50, 'n_neighbors': 10, 'weights': 'distance'},\n",
       "  {'leaf_size': 50, 'n_neighbors': 20, 'weights': 'uniform'},\n",
       "  {'leaf_size': 50, 'n_neighbors': 20, 'weights': 'distance'},\n",
       "  {'leaf_size': 50, 'n_neighbors': 50, 'weights': 'uniform'},\n",
       "  {'leaf_size': 50, 'n_neighbors': 50, 'weights': 'distance'}],\n",
       " 'split0_test_score': array([1.        , 1.        , 1.        , 1.        , 1.        ,\n",
       "        1.        , 0.86666667, 0.93333333, 1.        , 1.        ,\n",
       "        1.        , 1.        , 1.        , 1.        , 0.86666667,\n",
       "        0.93333333, 1.        , 1.        , 1.        , 1.        ,\n",
       "        1.        , 1.        , 0.86666667, 0.93333333, 1.        ,\n",
       "        1.        , 1.        , 1.        , 1.        , 1.        ,\n",
       "        0.86666667, 0.93333333, 1.        , 1.        , 1.        ,\n",
       "        1.        , 1.        , 1.        , 0.86666667, 0.93333333]),\n",
       " 'split1_test_score': array([0.93333333, 0.93333333, 0.93333333, 0.93333333, 0.93333333,\n",
       "        0.93333333, 0.93333333, 0.93333333, 0.93333333, 0.93333333,\n",
       "        0.93333333, 0.93333333, 0.93333333, 0.93333333, 0.93333333,\n",
       "        0.93333333, 0.93333333, 0.93333333, 0.93333333, 0.93333333,\n",
       "        0.93333333, 0.93333333, 0.93333333, 0.93333333, 0.93333333,\n",
       "        0.93333333, 0.93333333, 0.93333333, 0.93333333, 0.93333333,\n",
       "        0.93333333, 0.93333333, 0.93333333, 0.93333333, 0.93333333,\n",
       "        0.93333333, 0.93333333, 0.93333333, 0.93333333, 0.93333333]),\n",
       " 'split2_test_score': array([1.        , 1.        , 1.        , 1.        , 1.        ,\n",
       "        1.        , 0.93333333, 1.        , 1.        , 1.        ,\n",
       "        1.        , 1.        , 1.        , 1.        , 0.93333333,\n",
       "        1.        , 1.        , 1.        , 1.        , 1.        ,\n",
       "        1.        , 1.        , 0.93333333, 1.        , 1.        ,\n",
       "        1.        , 1.        , 1.        , 1.        , 1.        ,\n",
       "        0.93333333, 1.        , 1.        , 1.        , 1.        ,\n",
       "        1.        , 1.        , 1.        , 0.93333333, 1.        ]),\n",
       " 'split3_test_score': array([1.        , 1.        , 1.        , 1.        , 1.        ,\n",
       "        1.        , 0.93333333, 0.93333333, 1.        , 1.        ,\n",
       "        1.        , 1.        , 1.        , 1.        , 0.93333333,\n",
       "        0.93333333, 1.        , 1.        , 1.        , 1.        ,\n",
       "        1.        , 1.        , 0.93333333, 0.93333333, 1.        ,\n",
       "        1.        , 1.        , 1.        , 1.        , 1.        ,\n",
       "        0.93333333, 0.93333333, 1.        , 1.        , 1.        ,\n",
       "        1.        , 1.        , 1.        , 0.93333333, 0.93333333]),\n",
       " 'split4_test_score': array([0.86666667, 0.86666667, 1.        , 0.93333333, 1.        ,\n",
       "        0.86666667, 0.93333333, 0.93333333, 0.86666667, 0.86666667,\n",
       "        1.        , 0.93333333, 1.        , 0.86666667, 0.93333333,\n",
       "        0.93333333, 0.86666667, 0.86666667, 1.        , 0.93333333,\n",
       "        1.        , 0.86666667, 0.93333333, 0.93333333, 0.86666667,\n",
       "        0.86666667, 1.        , 0.93333333, 1.        , 0.86666667,\n",
       "        0.93333333, 0.93333333, 0.86666667, 0.86666667, 1.        ,\n",
       "        0.93333333, 1.        , 0.86666667, 0.93333333, 0.93333333]),\n",
       " 'split5_test_score': array([0.93333333, 0.93333333, 0.86666667, 0.93333333, 0.93333333,\n",
       "        0.93333333, 0.86666667, 0.93333333, 0.93333333, 0.93333333,\n",
       "        0.86666667, 0.93333333, 0.93333333, 0.93333333, 0.86666667,\n",
       "        0.93333333, 0.93333333, 0.93333333, 0.86666667, 0.93333333,\n",
       "        0.93333333, 0.93333333, 0.86666667, 0.93333333, 0.93333333,\n",
       "        0.93333333, 0.86666667, 0.93333333, 0.93333333, 0.93333333,\n",
       "        0.86666667, 0.93333333, 0.93333333, 0.93333333, 0.86666667,\n",
       "        0.93333333, 0.93333333, 0.93333333, 0.86666667, 0.93333333]),\n",
       " 'split6_test_score': array([0.93333333, 0.93333333, 0.93333333, 0.93333333, 0.93333333,\n",
       "        0.93333333, 0.93333333, 0.93333333, 0.93333333, 0.93333333,\n",
       "        0.93333333, 0.93333333, 0.93333333, 0.93333333, 0.93333333,\n",
       "        0.93333333, 0.93333333, 0.93333333, 0.93333333, 0.93333333,\n",
       "        0.93333333, 0.93333333, 0.93333333, 0.93333333, 0.93333333,\n",
       "        0.93333333, 0.93333333, 0.93333333, 0.93333333, 0.93333333,\n",
       "        0.93333333, 0.93333333, 0.93333333, 0.93333333, 0.93333333,\n",
       "        0.93333333, 0.93333333, 0.93333333, 0.93333333, 0.93333333]),\n",
       " 'split7_test_score': array([1.        , 1.        , 0.93333333, 1.        , 1.        ,\n",
       "        1.        , 0.93333333, 0.93333333, 1.        , 1.        ,\n",
       "        0.93333333, 1.        , 1.        , 1.        , 0.93333333,\n",
       "        0.93333333, 1.        , 1.        , 0.93333333, 1.        ,\n",
       "        1.        , 1.        , 0.93333333, 0.93333333, 1.        ,\n",
       "        1.        , 0.93333333, 1.        , 1.        , 1.        ,\n",
       "        0.93333333, 0.93333333, 1.        , 1.        , 0.93333333,\n",
       "        1.        , 1.        , 1.        , 0.93333333, 0.93333333]),\n",
       " 'split8_test_score': array([1., 1., 1., 1., 1., 1., 1., 1., 1., 1., 1., 1., 1., 1., 1., 1., 1.,\n",
       "        1., 1., 1., 1., 1., 1., 1., 1., 1., 1., 1., 1., 1., 1., 1., 1., 1.,\n",
       "        1., 1., 1., 1., 1., 1.]),\n",
       " 'split9_test_score': array([1.        , 1.        , 1.        , 1.        , 1.        ,\n",
       "        1.        , 0.93333333, 1.        , 1.        , 1.        ,\n",
       "        1.        , 1.        , 1.        , 1.        , 0.93333333,\n",
       "        1.        , 1.        , 1.        , 1.        , 1.        ,\n",
       "        1.        , 1.        , 0.93333333, 1.        , 1.        ,\n",
       "        1.        , 1.        , 1.        , 1.        , 1.        ,\n",
       "        0.93333333, 1.        , 1.        , 1.        , 1.        ,\n",
       "        1.        , 1.        , 1.        , 0.93333333, 1.        ]),\n",
       " 'mean_test_score': array([0.96666667, 0.96666667, 0.96666667, 0.97333333, 0.98      ,\n",
       "        0.96666667, 0.92666667, 0.95333333, 0.96666667, 0.96666667,\n",
       "        0.96666667, 0.97333333, 0.98      , 0.96666667, 0.92666667,\n",
       "        0.95333333, 0.96666667, 0.96666667, 0.96666667, 0.97333333,\n",
       "        0.98      , 0.96666667, 0.92666667, 0.95333333, 0.96666667,\n",
       "        0.96666667, 0.96666667, 0.97333333, 0.98      , 0.96666667,\n",
       "        0.92666667, 0.95333333, 0.96666667, 0.96666667, 0.96666667,\n",
       "        0.97333333, 0.98      , 0.96666667, 0.92666667, 0.95333333]),\n",
       " 'std_test_score': array([0.04472136, 0.04472136, 0.04472136, 0.03265986, 0.0305505 ,\n",
       "        0.04472136, 0.0359011 , 0.0305505 , 0.04472136, 0.04472136,\n",
       "        0.04472136, 0.03265986, 0.0305505 , 0.04472136, 0.0359011 ,\n",
       "        0.0305505 , 0.04472136, 0.04472136, 0.04472136, 0.03265986,\n",
       "        0.0305505 , 0.04472136, 0.0359011 , 0.0305505 , 0.04472136,\n",
       "        0.04472136, 0.04472136, 0.03265986, 0.0305505 , 0.04472136,\n",
       "        0.0359011 , 0.0305505 , 0.04472136, 0.04472136, 0.04472136,\n",
       "        0.03265986, 0.0305505 , 0.04472136, 0.0359011 , 0.0305505 ]),\n",
       " 'rank_test_score': array([11, 11, 11,  6,  1, 11, 36, 31, 11, 11, 11,  6,  1, 11, 36, 31, 11,\n",
       "        11, 11,  6,  1, 11, 36, 31, 11, 11, 11,  6,  1, 11, 36, 31, 11, 11,\n",
       "        11,  6,  1, 11, 36, 31])}"
      ]
     },
     "execution_count": 24,
     "metadata": {},
     "output_type": "execute_result"
    }
   ],
   "source": [
    "grid.cv_results_"
   ]
  },
  {
   "cell_type": "code",
   "execution_count": null,
   "metadata": {
    "id": "VXvX19ry_tlr",
    "outputId": "5e4ddd3f-3596-4ff3-a363-2eefed9d822b",
    "scrolled": true
   },
   "outputs": [
    {
     "name": "stdout",
     "output_type": "stream",
     "text": [
      "0.9800000000000001\n",
      "{'leaf_size': 5, 'n_neighbors': 20, 'weights': 'uniform'}\n"
     ]
    }
   ],
   "source": [
    "print(grid.best_score_)\n",
    "print(grid.best_params_)"
   ]
  },
  {
   "cell_type": "markdown",
   "metadata": {
    "id": "qHLZ_pNV_tlt"
   },
   "source": [
    "<h2> RandomizedSearchCV </h2>"
   ]
  },
  {
   "cell_type": "code",
   "execution_count": null,
   "metadata": {
    "id": "b1CouAcR_tlu",
    "outputId": "c85d2ab9-10ed-4764-b7d5-2fee7a3a6661"
   },
   "outputs": [
    {
     "name": "stdout",
     "output_type": "stream",
     "text": [
      "Wall time: 59.6 ms\n"
     ]
    },
    {
     "data": {
      "text/plain": [
       "{'mean_fit_time': array([0.00036786, 0.00019958, 0.00040419]),\n",
       " 'std_fit_time': array([0.0004595 , 0.00039916, 0.00049551]),\n",
       " 'mean_score_time': array([0.00133419, 0.00120237, 0.00070376]),\n",
       " 'std_score_time': array([0.00049229, 0.00058833, 0.00046075]),\n",
       " 'param_weights': masked_array(data=['uniform', 'uniform', 'uniform'],\n",
       "              mask=[False, False, False],\n",
       "        fill_value='?',\n",
       "             dtype=object),\n",
       " 'param_n_neighbors': masked_array(data=[20, 50, 5],\n",
       "              mask=[False, False, False],\n",
       "        fill_value='?',\n",
       "             dtype=object),\n",
       " 'param_leaf_size': masked_array(data=[15, 15, 20],\n",
       "              mask=[False, False, False],\n",
       "        fill_value='?',\n",
       "             dtype=object),\n",
       " 'params': [{'weights': 'uniform', 'n_neighbors': 20, 'leaf_size': 15},\n",
       "  {'weights': 'uniform', 'n_neighbors': 50, 'leaf_size': 15},\n",
       "  {'weights': 'uniform', 'n_neighbors': 5, 'leaf_size': 20}],\n",
       " 'split0_test_score': array([1.        , 0.86666667, 1.        ]),\n",
       " 'split1_test_score': array([0.93333333, 0.93333333, 0.93333333]),\n",
       " 'split2_test_score': array([1.        , 0.93333333, 1.        ]),\n",
       " 'split3_test_score': array([1.        , 0.93333333, 1.        ]),\n",
       " 'split4_test_score': array([1.        , 0.93333333, 0.86666667]),\n",
       " 'split5_test_score': array([0.93333333, 0.86666667, 0.93333333]),\n",
       " 'split6_test_score': array([0.93333333, 0.93333333, 0.93333333]),\n",
       " 'split7_test_score': array([1.        , 0.93333333, 1.        ]),\n",
       " 'split8_test_score': array([1., 1., 1.]),\n",
       " 'split9_test_score': array([1.        , 0.93333333, 1.        ]),\n",
       " 'mean_test_score': array([0.98      , 0.92666667, 0.96666667]),\n",
       " 'std_test_score': array([0.0305505 , 0.0359011 , 0.04472136]),\n",
       " 'rank_test_score': array([1, 3, 2])}"
      ]
     },
     "execution_count": 22,
     "metadata": {},
     "output_type": "execute_result"
    }
   ],
   "source": [
    "knn_ = KNeighborsClassifier()\n",
    "rand = RandomizedSearchCV(knn_, params, cv=10,\n",
    "                          scoring='accuracy', n_iter=3,\n",
    "                          random_state=5\n",
    "                         )\n",
    "%time rand.fit(x, y)\n",
    "rand.cv_results_"
   ]
  },
  {
   "cell_type": "code",
   "execution_count": null,
   "metadata": {
    "id": "SIBCXU0j_tlv",
    "outputId": "02e2f7d9-8d80-466e-b497-f9f90c21fb94"
   },
   "outputs": [
    {
     "name": "stdout",
     "output_type": "stream",
     "text": [
      "0.9800000000000001\n",
      "{'weights': 'uniform', 'n_neighbors': 20, 'leaf_size': 15}\n"
     ]
    }
   ],
   "source": [
    "print(rand.best_score_)\n",
    "print(rand.best_params_)"
   ]
  }
 ],
 "metadata": {
  "colab": {
   "collapsed_sections": [],
   "provenance": []
  },
  "kernelspec": {
   "display_name": "Python 3",
   "language": "python",
   "name": "python3"
  },
  "language_info": {
   "codemirror_mode": {
    "name": "ipython",
    "version": 3
   },
   "file_extension": ".py",
   "mimetype": "text/x-python",
   "name": "python",
   "nbconvert_exporter": "python",
   "pygments_lexer": "ipython3",
   "version": "3.8.3"
  }
 },
 "nbformat": 4,
 "nbformat_minor": 1
}
